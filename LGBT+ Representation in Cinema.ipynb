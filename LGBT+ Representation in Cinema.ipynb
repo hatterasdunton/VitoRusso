{
 "cells": [
  {
   "cell_type": "markdown",
   "metadata": {},
   "source": [
    "# Introduction\n",
    "\n",
    "With The Academy introducing new representation and inclusion requirements for movies to be eligible for the Oscar Best Picture award, diversity in film has become a hot topic. While some believe these requirements force movie plots to adhere to social norms, many movie lovers rejoice as they can look forward to seeing characters on the screen they can identify with. When films include characters from underrepresented groups, viewers of those underrepresented groups are able to feel affirmed in their identity. That being said, I would like to bring up the topic of LGBT+ representation in cinema. \n",
    "\n",
    "According to Gallup polls, the number of Americans who identify as a member in the LGBT+ community grows every year. In 2017, nearly 5% of Americans adults identified as either lesbian, gay, bisexual or transgender (LGBT). These statistics also do not include non-binary, pansexual, asexual, aromantic, and other groups. As the LGBT+ community grows, it is important that LGBT+ representation in cinema grows as well. Going further, it is important that these representations are accurate and valid portrayals. Movie critics can assess accurate representation of LGBT+ persons using the Vito Russo Test.\n",
    "\n",
    "\n",
    "## What is the Vito Russo Test? \n",
    "\n",
    "\n",
    "\"Taking inspiration from the “Bechdel Test,” which examines the way female characters are portrayed and situated within a narrative, GLAAD developed its own set of criteria to analyze how LGBT characters are included within a film. The Vito Russo Test takes its name from celebrated film historian and GLAAD co-founder Vito Russo, whose book The Celluloid Closet remains a foundational analysis of LGBT portrayals in Hollywood film. These criteria can help guide filmmakers to create more multidimensional characters while also providing a barometer for representation on a wide scale. This test represents a standard GLAAD expects a greater number of mainstream Hollywood films to reach in the future.\"\n",
    "\n",
    "-GLAAD Studio Responsibility Index\n",
    "\n",
    "### To pass the Vito Russo Test, the following must be true:\n",
    "\n",
    "\n",
    " - The film contains a character that is identifiably lesbian, gay, bisexual, and/or transgender.\n",
    "\n",
    " - That character must not be solely or predominantly defined by their sexual orientation or gender identity (i.e. they are comprised of the same sort of unique character traits commonly used to differentiate straight/non-transgender characters from one another).\n",
    "\n",
    " - The LGBT character must be tied into the plot in such a way that their removal would have a significant effect, meaning they are not there to simply provide colorful commentary, paint urban authenticity, or (perhaps most commonly) set up a punchline. The character must matter."
   ]
  },
  {
   "cell_type": "markdown",
   "metadata": {},
   "source": [
    "In order to understand trends in LGBT+ representation in cinema, we will use GLAAD's Studio Responsibility Index (SRI) to look at yearly statistics on representation. While we only have 8 years worth of data from GLAAD, we can get insights into the race, orientation, and gender identity of characters, which studios are most/least inclusive, and whether or not cinema in general is becoming more LGBT+ friendly. "
   ]
  },
  {
   "cell_type": "markdown",
   "metadata": {},
   "source": [
    "To begin, let's import our data and all of the libraries we will need for working with the data. "
   ]
  },
  {
   "cell_type": "code",
   "execution_count": 4,
   "metadata": {},
   "outputs": [
    {
     "data": {
      "text/html": [
       "<div>\n",
       "<style scoped>\n",
       "    .dataframe tbody tr th:only-of-type {\n",
       "        vertical-align: middle;\n",
       "    }\n",
       "\n",
       "    .dataframe tbody tr th {\n",
       "        vertical-align: top;\n",
       "    }\n",
       "\n",
       "    .dataframe thead th {\n",
       "        text-align: right;\n",
       "    }\n",
       "</style>\n",
       "<table border=\"1\" class=\"dataframe\">\n",
       "  <thead>\n",
       "    <tr style=\"text-align: right;\">\n",
       "      <th></th>\n",
       "      <th>year</th>\n",
       "      <th>male_characters</th>\n",
       "      <th>female_characters</th>\n",
       "      <th>nonbinary_characters</th>\n",
       "      <th>latino_characters</th>\n",
       "      <th>black_characters</th>\n",
       "      <th>white_characters</th>\n",
       "      <th>asian_pacific_islander_characters</th>\n",
       "      <th>nonhuman_character</th>\n",
       "      <th>bisexual_characters</th>\n",
       "      <th>...</th>\n",
       "      <th>focus_features_profit_in_millions</th>\n",
       "      <th>focus_features_vito_passed</th>\n",
       "      <th>united_artists_releasing_total</th>\n",
       "      <th>united_artists_releasing_inclusive</th>\n",
       "      <th>united_artists_releasing_profit_in_millions</th>\n",
       "      <th>united_artists_vito_passed</th>\n",
       "      <th>stx_films_total</th>\n",
       "      <th>stx_films_inclusive</th>\n",
       "      <th>stx_films_profit_in_millions</th>\n",
       "      <th>stx_films_vito_passed</th>\n",
       "    </tr>\n",
       "  </thead>\n",
       "  <tbody>\n",
       "    <tr>\n",
       "      <th>0</th>\n",
       "      <td>2012.0</td>\n",
       "      <td>63.0</td>\n",
       "      <td>37.0</td>\n",
       "      <td>0.00</td>\n",
       "      <td>3.2</td>\n",
       "      <td>12.9</td>\n",
       "      <td>83.9</td>\n",
       "      <td>0.0</td>\n",
       "      <td>0.0</td>\n",
       "      <td>11.0</td>\n",
       "      <td>...</td>\n",
       "      <td>NaN</td>\n",
       "      <td>NaN</td>\n",
       "      <td>NaN</td>\n",
       "      <td>NaN</td>\n",
       "      <td>NaN</td>\n",
       "      <td>NaN</td>\n",
       "      <td>NaN</td>\n",
       "      <td>NaN</td>\n",
       "      <td>NaN</td>\n",
       "      <td>NaN</td>\n",
       "    </tr>\n",
       "    <tr>\n",
       "      <th>1</th>\n",
       "      <td>2013.0</td>\n",
       "      <td>64.0</td>\n",
       "      <td>36.0</td>\n",
       "      <td>0.00</td>\n",
       "      <td>4.0</td>\n",
       "      <td>12.0</td>\n",
       "      <td>76.0</td>\n",
       "      <td>8.0</td>\n",
       "      <td>0.0</td>\n",
       "      <td>17.7</td>\n",
       "      <td>...</td>\n",
       "      <td>NaN</td>\n",
       "      <td>NaN</td>\n",
       "      <td>NaN</td>\n",
       "      <td>NaN</td>\n",
       "      <td>NaN</td>\n",
       "      <td>NaN</td>\n",
       "      <td>NaN</td>\n",
       "      <td>NaN</td>\n",
       "      <td>NaN</td>\n",
       "      <td>NaN</td>\n",
       "    </tr>\n",
       "    <tr>\n",
       "      <th>2</th>\n",
       "      <td>2014.0</td>\n",
       "      <td>68.0</td>\n",
       "      <td>32.0</td>\n",
       "      <td>0.00</td>\n",
       "      <td>7.0</td>\n",
       "      <td>11.0</td>\n",
       "      <td>68.0</td>\n",
       "      <td>14.0</td>\n",
       "      <td>0.0</td>\n",
       "      <td>30.0</td>\n",
       "      <td>...</td>\n",
       "      <td>NaN</td>\n",
       "      <td>0.0</td>\n",
       "      <td>NaN</td>\n",
       "      <td>NaN</td>\n",
       "      <td>NaN</td>\n",
       "      <td>NaN</td>\n",
       "      <td>NaN</td>\n",
       "      <td>NaN</td>\n",
       "      <td>NaN</td>\n",
       "      <td>NaN</td>\n",
       "    </tr>\n",
       "    <tr>\n",
       "      <th>3</th>\n",
       "      <td>2015.0</td>\n",
       "      <td>77.0</td>\n",
       "      <td>23.0</td>\n",
       "      <td>0.00</td>\n",
       "      <td>10.6</td>\n",
       "      <td>8.5</td>\n",
       "      <td>72.3</td>\n",
       "      <td>6.4</td>\n",
       "      <td>2.1</td>\n",
       "      <td>9.0</td>\n",
       "      <td>...</td>\n",
       "      <td>NaN</td>\n",
       "      <td>NaN</td>\n",
       "      <td>NaN</td>\n",
       "      <td>NaN</td>\n",
       "      <td>NaN</td>\n",
       "      <td>NaN</td>\n",
       "      <td>NaN</td>\n",
       "      <td>NaN</td>\n",
       "      <td>NaN</td>\n",
       "      <td>NaN</td>\n",
       "    </tr>\n",
       "    <tr>\n",
       "      <th>4</th>\n",
       "      <td>2016.0</td>\n",
       "      <td>67.0</td>\n",
       "      <td>31.0</td>\n",
       "      <td>0.01</td>\n",
       "      <td>1.0</td>\n",
       "      <td>13.0</td>\n",
       "      <td>69.0</td>\n",
       "      <td>6.0</td>\n",
       "      <td>11.0</td>\n",
       "      <td>NaN</td>\n",
       "      <td>...</td>\n",
       "      <td>NaN</td>\n",
       "      <td>NaN</td>\n",
       "      <td>NaN</td>\n",
       "      <td>NaN</td>\n",
       "      <td>NaN</td>\n",
       "      <td>NaN</td>\n",
       "      <td>NaN</td>\n",
       "      <td>NaN</td>\n",
       "      <td>NaN</td>\n",
       "      <td>NaN</td>\n",
       "    </tr>\n",
       "  </tbody>\n",
       "</table>\n",
       "<p>5 rows × 68 columns</p>\n",
       "</div>"
      ],
      "text/plain": [
       "     year  male_characters  female_characters  nonbinary_characters  \\\n",
       "0  2012.0             63.0               37.0                  0.00   \n",
       "1  2013.0             64.0               36.0                  0.00   \n",
       "2  2014.0             68.0               32.0                  0.00   \n",
       "3  2015.0             77.0               23.0                  0.00   \n",
       "4  2016.0             67.0               31.0                  0.01   \n",
       "\n",
       "   latino_characters  black_characters  white_characters  \\\n",
       "0                3.2              12.9              83.9   \n",
       "1                4.0              12.0              76.0   \n",
       "2                7.0              11.0              68.0   \n",
       "3               10.6               8.5              72.3   \n",
       "4                1.0              13.0              69.0   \n",
       "\n",
       "   asian_pacific_islander_characters  nonhuman_character  bisexual_characters  \\\n",
       "0                                0.0                 0.0                 11.0   \n",
       "1                                8.0                 0.0                 17.7   \n",
       "2                               14.0                 0.0                 30.0   \n",
       "3                                6.4                 2.1                  9.0   \n",
       "4                                6.0                11.0                  NaN   \n",
       "\n",
       "   ...  focus_features_profit_in_millions  focus_features_vito_passed  \\\n",
       "0  ...                                NaN                         NaN   \n",
       "1  ...                                NaN                         NaN   \n",
       "2  ...                                NaN                         0.0   \n",
       "3  ...                                NaN                         NaN   \n",
       "4  ...                                NaN                         NaN   \n",
       "\n",
       "   united_artists_releasing_total  united_artists_releasing_inclusive  \\\n",
       "0                             NaN                                 NaN   \n",
       "1                             NaN                                 NaN   \n",
       "2                             NaN                                 NaN   \n",
       "3                             NaN                                 NaN   \n",
       "4                             NaN                                 NaN   \n",
       "\n",
       "   united_artists_releasing_profit_in_millions  united_artists_vito_passed  \\\n",
       "0                                          NaN                         NaN   \n",
       "1                                          NaN                         NaN   \n",
       "2                                          NaN                         NaN   \n",
       "3                                          NaN                         NaN   \n",
       "4                                          NaN                         NaN   \n",
       "\n",
       "  stx_films_total  stx_films_inclusive stx_films_profit_in_millions  \\\n",
       "0             NaN                  NaN                          NaN   \n",
       "1             NaN                  NaN                          NaN   \n",
       "2             NaN                  NaN                          NaN   \n",
       "3             NaN                  NaN                          NaN   \n",
       "4             NaN                  NaN                          NaN   \n",
       "\n",
       "   stx_films_vito_passed  \n",
       "0                    NaN  \n",
       "1                    NaN  \n",
       "2                    NaN  \n",
       "3                    NaN  \n",
       "4                    NaN  \n",
       "\n",
       "[5 rows x 68 columns]"
      ]
     },
     "execution_count": 4,
     "metadata": {},
     "output_type": "execute_result"
    }
   ],
   "source": [
    "import pandas as pd\n",
    "from matplotlib import pyplot as plt\n",
    "import seaborn as sns\n",
    "import numpy as np\n",
    "\n",
    "\n",
    "vito_data = pd.read_excel(r\"C:\\Users\\Hatteras\\Documents\\Vito Russo GLAAD.xlsx\")\n",
    "vito_data.head()"
   ]
  },
  {
   "cell_type": "markdown",
   "metadata": {},
   "source": [
    "Every year GLAAD add new categories and studios they wish to include in their Studio Responsibility Index, so that accounts for a lot of the missing data. For this report, we will be sticking to columns with little missing values. Now "
   ]
  },
  {
   "cell_type": "markdown",
   "metadata": {},
   "source": [
    "# Analysis\n",
    "How often are LGBT+ characters accurately represented in a movie? Let's look at the gap between a movie being inclusive versus accurately inclusive. Remember, for a movie to be accurately inclusive, it must pass the requirements of the Vito Russo Test."
   ]
  },
  {
   "cell_type": "code",
   "execution_count": 2,
   "metadata": {},
   "outputs": [
    {
     "data": {
      "image/png": "[encoded data removed]",
      "text/plain": [
       "<Figure size 432x288 with 1 Axes>"
      ]
     },
     "metadata": {
      "needs_background": "light"
     },
     "output_type": "display_data"
    }
   ],
   "source": [
    "plt.hlines(y=vito_data['year'], xmin=vito_data['total_vito_passed'], xmax=vito_data['inclusive_movies']\n",
    "    ,color='grey', alpha=0.4)\n",
    "plt.scatter(vito_data['inclusive_movies'], vito_data['year'], color=\"mediumturquoise\"\n",
    "            , alpha=1, label='Inclusive Movies')\n",
    "plt.scatter(vito_data['total_vito_passed'], vito_data['year'], color=\"green\"\n",
    "            , alpha=0.4 , label='Passed Vito Russo Test')\n",
    "plt.legend(prop={'size': 8})\n",
    "plt.title(\"Accurate LGBT+ Representation in Movies by Year\")\n",
    "plt.xlabel('Number of Movies')\n",
    "plt.ylabel('Year')\n",
    "plt.savefig('AccurateLGBT.jpeg', bbox_inches='tight')"
   ]
  },
  {
   "cell_type": "markdown",
   "metadata": {},
   "source": [
    "Let's think about what this data is telling us. When the gap is large between inclusive movies and movies passing the Vito Russo Test, we have larger amounts of inaccurate portrayals of LGBT+ members. Similarly, when the gap is small, we have more accurate portrayals in cinema. \n",
    "\n",
    "From this visualization, we can tell one thing: As the years go on, we are slowly bridging the gap between simply including an LGBT+ character and accurately/appropriately including an LGBT+ character. Let's look at it another way as well."
   ]
  },
  {
   "cell_type": "code",
   "execution_count": 3,
   "metadata": {},
   "outputs": [
    {
     "data": {
      "image/png": "[encoded data removed]",
      "text/plain": [
       "<Figure size 432x288 with 1 Axes>"
      ]
     },
     "metadata": {
      "needs_background": "light"
     },
     "output_type": "display_data"
    }
   ],
   "source": [
    "#Create new dataframe columns\n",
    "vito_data['accurate'] = vito_data['total_vito_passed'] / vito_data['inclusive_movies'] *100\n",
    "vito_data['percent_inclusive'] = vito_data['inclusive_movies']/vito_data['total_movies']*100\n",
    "\n",
    "\n",
    "pal = [\"mediumturquoise\", \"#34495e\"]\n",
    "plt.stackplot(vito_data['year'], vito_data['percent_inclusive'], vito_data['accurate'], \n",
    "              labels=['Total Representation',' Accurate Representation'], colors=pal)\n",
    "plt.legend(loc='upper left')\n",
    "plt.title(\"Representation of LGBT+ Characters in Movies\")\n",
    "plt.xlabel('Year')\n",
    "plt.ylabel('% Representation')\n",
    "plt.savefig('LGBTRepresentation.jpeg')\n",
    "plt.show()"
   ]
  },
  {
   "cell_type": "markdown",
   "metadata": {},
   "source": [
    "Even though there is little growth in LGBT+ representation in movies, at least the representation is becoming more accurate."
   ]
  },
  {
   "cell_type": "markdown",
   "metadata": {},
   "source": [
    "## Looking Forward\n",
    "This notebook is only preliminary results, in an effort to introduce the topic.\n",
    "\n",
    "I plan on looking at the following questions in the near future:\n",
    "\n",
    " - How often are LGBT+ people of color being represented?\n",
    " - Which studios are best at accurately representing LGBT+ characters? Which studios need improvement?\n",
    " - How often are different orientations in LGBT+ being represented?\n",
    " \n",
    " "
   ]
  }
 ],
 "metadata": {
  "kernelspec": {
   "display_name": "Python 3",
   "language": "python",
   "name": "python3"
  },
  "language_info": {
   "codemirror_mode": {
    "name": "ipython",
    "version": 3
   },
   "file_extension": ".py",
   "mimetype": "text/x-python",
   "name": "python",
   "nbconvert_exporter": "python",
   "pygments_lexer": "ipython3",
   "version": "3.8.3"
  }
 },
 "nbformat": 4,
 "nbformat_minor": 4
}
